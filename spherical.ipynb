{
 "cells": [
  {
   "cell_type": "code",
   "execution_count": 1,
   "metadata": {},
   "outputs": [],
   "source": [
    "using GLMakie, ColorSchemes\n",
    "using AssociatedLegendrePolynomials\n",
    "GLMakie.activate!()"
   ]
  },
  {
   "cell_type": "code",
   "execution_count": 2,
   "metadata": {},
   "outputs": [],
   "source": [
    "\n",
    "let\n",
    "    function Y(θ, ϕ, l, m)\n",
    "        if m < 0\n",
    "            return (-1)^m * √2 * Nlm(l, abs(m)) * Plm(l, abs(m), cos(θ)) * sin(abs(m) * ϕ)\n",
    "        elseif m == 0\n",
    "            return sqrt((2 * l + 1) / 4π) * Plm(l, m, cos(θ))\n",
    "        else\n",
    "            return (-1)^m * √2 * Nlm(l, m) * Plm(l, m, cos(θ)) * cos(m * ϕ)\n",
    "        end\n",
    "    end\n",
    "    # Grids of polar and azimuthal angles\n",
    "    θ = LinRange(0, π, 200)\n",
    "    ϕ = LinRange(0, 2π, 200)\n",
    "    x = [sin(θ) * sin(ϕ) for θ in θ, ϕ in ϕ]\n",
    "    y = [sin(θ) * cos(ϕ) for θ in θ, ϕ in ϕ]\n",
    "    z = [cos(θ) for θ in θ, ϕ in ϕ]\n",
    "    l = Observable(4)\n",
    "    m = Observable(1)\n",
    "    cmap = \"Hiroshige\"\n",
    "\n",
    "    with_theme(theme_dark()) do\n",
    "        fig = Figure(resolution = (1200, 800))\n",
    "        menu = Menu(fig, options = [\"Hiroshige\", \"Spectral_11\", \"diverging_bkr_55_10_c35_n256\",\n",
    "            \"diverging_cwm_80_100_c22_n256\", \":diverging_gkr_60_10_c40_n256\",\n",
    "            \"diverging_linear_bjr_30_55_c53_n256\",\n",
    "            \"diverging_protanopic_deuteranopic_bwy_60_95_c32_n256\"])\n",
    "        Ygrid = lift(l, m) do l, m\n",
    "            [Y(θ, ϕ, l, m) for θ in θ, ϕ in ϕ]\n",
    "        end\n",
    "        Ylm = @lift(abs.($Ygrid))\n",
    "        Ygrid2 = @lift(vec($Ygrid))\n",
    "\n",
    "        ax1 = Axis3(fig[1, 1], aspect = :data, perspectiveness = 0.5, elevation = π / 8, azimuth = 2.225π)\n",
    "        ax2 = Axis3(fig[1, 2], aspect = :data, perspectiveness = 0.5, elevation = π / 8, azimuth = 2.225π)\n",
    "        pltobj1 = surface!(ax1, x, y, z; color = Ygrid, colormap = cmap, shading = false)\n",
    "        pltobj2 = surface!(ax2, @lift($Ylm .* x), @lift($Ylm .* y), @lift($Ylm .* z), color = Ygrid,\n",
    "            colormap = cmap, shading = false)\n",
    "        limits!(ax2, -0.5, 0.5, -0.5, 0.5, -1, 1)\n",
    "        #cbar = Colorbar(fig[1, 3], pltobj1, label = \"Yₗₘ(θ,ϕ)\", width = 11, tickalign = 1, tickwidth = 1)\n",
    "        fig[0, 1:2] = Label(fig, @lift(\"Tesseral Spherical Harmonics l = $($l), m = $($m)\"), textsize = 20)\n",
    "        fig[1, 0] = vgrid!(\n",
    "            Label(fig, \"Colormap\", width = nothing),\n",
    "            menu; tellheight = false, width = 150)\n",
    "        on(menu.selection) do s\n",
    "            pltobj1.colormap = s\n",
    "            pltobj2.colormap = s\n",
    "        end\n",
    "        sl = Slider(fig[end+1, 1:2], range = 1:30, startvalue = 2)\n",
    "        sl2 = Slider(fig[end+1, 1:2], range = @lift(-$(sl.value):1:$(sl.value)))\n",
    "        connect!(l, sl.value)\n",
    "        connect!(m, sl2.value)\n",
    "        # tight_ticklabel_spacing!(cbar)\n",
    "        display(fig)\n",
    "    end\n",
    "end;"
   ]
  },
  {
   "cell_type": "code",
   "execution_count": null,
   "metadata": {},
   "outputs": [],
   "source": []
  }
 ],
 "metadata": {
  "kernelspec": {
   "display_name": "Julia 1.7.2",
   "language": "julia",
   "name": "julia-1.7"
  },
  "language_info": {
   "file_extension": ".jl",
   "mimetype": "application/julia",
   "name": "julia",
   "version": "1.7.2"
  },
  "orig_nbformat": 4
 },
 "nbformat": 4,
 "nbformat_minor": 2
}
